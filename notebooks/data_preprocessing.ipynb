{
 "cells": [
  {
   "cell_type": "code",
   "execution_count": 37,
   "id": "dfba2eb5",
   "metadata": {},
   "outputs": [
    {
     "name": "stderr",
     "output_type": "stream",
     "text": [
      "[nltk_data] Downloading package stopwords to\n",
      "[nltk_data]     C:\\Users\\praye\\AppData\\Roaming\\nltk_data...\n",
      "[nltk_data]   Package stopwords is already up-to-date!\n",
      "[nltk_data] Downloading package wordnet to\n",
      "[nltk_data]     C:\\Users\\praye\\AppData\\Roaming\\nltk_data...\n",
      "[nltk_data]   Package wordnet is already up-to-date!\n",
      "[nltk_data] Downloading package omw-1.4 to\n",
      "[nltk_data]     C:\\Users\\praye\\AppData\\Roaming\\nltk_data...\n",
      "[nltk_data]   Package omw-1.4 is already up-to-date!\n"
     ]
    },
    {
     "data": {
      "text/plain": [
       "True"
      ]
     },
     "execution_count": 37,
     "metadata": {},
     "output_type": "execute_result"
    }
   ],
   "source": [
    "import pandas as pd\n",
    "import numpy as np\n",
    "import os\n",
    "import re\n",
    "\n",
    "import nltk\n",
    "from nltk.corpus import stopwords\n",
    "from nltk.stem import WordNetLemmatizer\n",
    "import logging\n",
    "\n",
    "nltk.download('stopwords')\n",
    "nltk.download('wordnet')\n",
    "nltk.download('omw-1.4')"
   ]
  },
  {
   "cell_type": "code",
   "execution_count": 38,
   "id": "2c9a95a9",
   "metadata": {},
   "outputs": [],
   "source": [
    "# logging configuration\n",
    "logger = logging.getLogger('data_transformation')\n",
    "logger.setLevel('DEBUG')\n",
    "\n",
    "console_handler = logging.StreamHandler()\n",
    "console_handler.setLevel('DEBUG')\n",
    "\n",
    "file_handler = logging.FileHandler('transformation_errors.log')\n",
    "file_handler.setLevel('ERROR')\n",
    "\n",
    "formatter = logging.Formatter('%(asctime)s - %(name)s - %(levelname)s - %(message)s')\n",
    "console_handler.setFormatter(formatter)\n",
    "file_handler.setFormatter(formatter)\n",
    "\n",
    "logger.addHandler(console_handler)\n",
    "logger.addHandler(file_handler)\n"
   ]
  },
  {
   "cell_type": "code",
   "execution_count": 39,
   "id": "f31a9bcc",
   "metadata": {},
   "outputs": [],
   "source": [
    "try:\n",
    "    # Define the data path\n",
    "    path = os.path.join(\"..\", \"data\", \"raw\")\n",
    "    logging.info(f\"Looking for data in path: {path}\")\n",
    "\n",
    "    # Load train data\n",
    "    train_path = os.path.join(path, \"train_data.csv\")\n",
    "    train_data = pd.read_csv(train_path)\n",
    "    logging.info(f\"Train data loaded successfully from: {train_path} (shape: {train_data.shape})\")\n",
    "\n",
    "    # Load test data\n",
    "    test_path = os.path.join(path, \"test_data.csv\")\n",
    "    test_data = pd.read_csv(test_path)\n",
    "    logging.info(f\"Test data loaded successfully from: {test_path} (shape: {test_data.shape})\")\n",
    "\n",
    "except FileNotFoundError as fnf_error:\n",
    "    logging.error(f\"File not found: {fnf_error}\")\n",
    "except pd.errors.EmptyDataError as ede:\n",
    "    logging.error(f\"Empty file encountered: {ede}\")\n",
    "except Exception as e:\n",
    "    logging.error(f\"An error occurred while loading the data: {e}\")"
   ]
  },
  {
   "cell_type": "code",
   "execution_count": 40,
   "id": "34f70888",
   "metadata": {},
   "outputs": [
    {
     "data": {
      "text/html": [
       "<div>\n",
       "<style scoped>\n",
       "    .dataframe tbody tr th:only-of-type {\n",
       "        vertical-align: middle;\n",
       "    }\n",
       "\n",
       "    .dataframe tbody tr th {\n",
       "        vertical-align: top;\n",
       "    }\n",
       "\n",
       "    .dataframe thead th {\n",
       "        text-align: right;\n",
       "    }\n",
       "</style>\n",
       "<table border=\"1\" class=\"dataframe\">\n",
       "  <thead>\n",
       "    <tr style=\"text-align: right;\">\n",
       "      <th></th>\n",
       "      <th>content</th>\n",
       "      <th>label</th>\n",
       "    </tr>\n",
       "  </thead>\n",
       "  <tbody>\n",
       "    <tr>\n",
       "      <th>0</th>\n",
       "      <td>welp youtube just gonna let soulless corporati...</td>\n",
       "      <td>0.0</td>\n",
       "    </tr>\n",
       "    <tr>\n",
       "      <th>1</th>\n",
       "      <td>again said you are into deep propaganda\\nmodi ...</td>\n",
       "      <td>1.0</td>\n",
       "    </tr>\n",
       "    <tr>\n",
       "      <th>2</th>\n",
       "      <td>have subscribed here for some fun this series ...</td>\n",
       "      <td>1.0</td>\n",
       "    </tr>\n",
       "    <tr>\n",
       "      <th>3</th>\n",
       "      <td>egoistic priyankavadramayawati mamtanaidu will...</td>\n",
       "      <td>-1.0</td>\n",
       "    </tr>\n",
       "    <tr>\n",
       "      <th>4</th>\n",
       "      <td>that innocent janata and chatur modi</td>\n",
       "      <td>1.0</td>\n",
       "    </tr>\n",
       "  </tbody>\n",
       "</table>\n",
       "</div>"
      ],
      "text/plain": [
       "                                             content  label\n",
       "0  welp youtube just gonna let soulless corporati...    0.0\n",
       "1  again said you are into deep propaganda\\nmodi ...    1.0\n",
       "2  have subscribed here for some fun this series ...    1.0\n",
       "3  egoistic priyankavadramayawati mamtanaidu will...   -1.0\n",
       "4              that innocent janata and chatur modi     1.0"
      ]
     },
     "execution_count": 40,
     "metadata": {},
     "output_type": "execute_result"
    }
   ],
   "source": [
    "train_data.head()"
   ]
  },
  {
   "cell_type": "code",
   "execution_count": 41,
   "id": "db37eae1",
   "metadata": {},
   "outputs": [],
   "source": [
    "def lower_case(df: pd.Series) -> pd.Series:\n",
    "    \"\"\"Convert text to lower case.\"\"\"\n",
    "    try:\n",
    "        return df.str.lower()\n",
    "    except Exception as e:\n",
    "        print(f\"Error in lower_case: {e}\")\n",
    "        return df\n",
    "\n",
    "def remove_special_characters(df: pd.Series) -> pd.Series:\n",
    "    \"\"\"Remove special characters from the text.\"\"\"\n",
    "    try:\n",
    "        return df.str.replace(r\"[^a-zA-Z0-9]\", \" \", regex=True)\n",
    "    except Exception as e:\n",
    "        print(f\"Error in remove_special_characters: {e}\")\n",
    "        return df\n",
    "\n",
    "def remove_extra_spaces(df: pd.Series) -> pd.Series:\n",
    "    \"\"\"Remove extra spaces from the text.\"\"\"\n",
    "    try:\n",
    "        return df.str.replace(r\"\\s+\", \" \", regex=True)\n",
    "    except Exception as e:\n",
    "        print(f\"Error in remove_extra_spaces: {e}\")\n",
    "        return df\n",
    "\n",
    "def remove_leading_trailing_spaces(df: pd.Series) -> pd.Series:\n",
    "    \"\"\"Remove leading and trailing spaces from the text.\"\"\"\n",
    "    try:\n",
    "        return df.str.strip()\n",
    "    except Exception as e:\n",
    "        print(f\"Error in remove_leading_trailing_spaces: {e}\")\n",
    "        return df\n",
    "\n",
    "def remove_numbers(df: pd.Series) -> pd.Series:\n",
    "    \"\"\"Remove numbers from the text.\"\"\"\n",
    "    try:\n",
    "        return df.str.replace(r\"\\d+\", \"\", regex=True)\n",
    "    except Exception as e:\n",
    "        print(f\"Error in remove_numbers: {e}\")\n",
    "        return df\n",
    "\n",
    "def remove_stopwords(df: pd.Series) -> pd.Series:\n",
    "    \"\"\"Remove stopwords from the text.\"\"\"\n",
    "    try:\n",
    "        stop_words = set(stopwords.words('english'))  - {'not', 'but', 'however', 'no', 'yet'}\n",
    "        return df.apply(lambda x: ' '.join([word for word in x.split() if word.lower() not in stop_words]))\n",
    "    except Exception as e:\n",
    "        print(f\"Error in remove_stopwords: {e}\")\n",
    "        return df\n",
    "\n",
    "def remove_punctuation(df: pd.Series) -> pd.Series:\n",
    "    \"\"\"Remove punctuation from the text.\"\"\"\n",
    "    try:\n",
    "        return df.str.replace(r\"[^\\w\\s]\", \"\", regex=True)\n",
    "    except Exception as e:\n",
    "        print(f\"Error in remove_punctuation: {e}\")\n",
    "        return df\n",
    "\n",
    "def lemmatize_words(df: pd.Series) -> pd.Series:\n",
    "    \"\"\"Lemmatize the text.\"\"\"\n",
    "    try:\n",
    "        lemmatizer = WordNetLemmatizer()\n",
    "        return df.apply(lambda x: ' '.join([lemmatizer.lemmatize(word) for word in x.split()]))\n",
    "    except Exception as e:\n",
    "        print(f\"Error in lemmatize_words: {e}\")\n",
    "        return df\n",
    "    \n",
    "def remove_empty_rows(df: pd.DataFrame) -> pd.DataFrame:\n",
    "    \"\"\"Remove empty rows from the DataFrame.\"\"\"\n",
    "    try:\n",
    "        df = df[~(df['content'].str.strip() == \"\")]\n",
    "        return df\n",
    "    except Exception as e:\n",
    "        print(f\"Error in remove_empty_rows: {e}\")\n",
    "        return df\n",
    "\n",
    "def remove_urls(text_series: pd.Series) -> pd.Series:\n",
    "    \"\"\"Remove URLs from a Pandas Series of text.\"\"\"\n",
    "    try:\n",
    "        url_pattern = r'http[s]?://(?:[a-zA-Z]|[0-9]|[$-_@.&+]|[!*\\\\(\\\\),]|(?:%[0-9a-fA-F][0-9a-fA-F]))+'\n",
    "        return text_series.str.replace(url_pattern, '', regex=True)\n",
    "    except Exception as e:\n",
    "        logging.error(f\"Error in remove_urls: {e}\")\n",
    "        return text_series"
   ]
  },
  {
   "cell_type": "code",
   "execution_count": 42,
   "id": "6b81d72a",
   "metadata": {},
   "outputs": [],
   "source": [
    "# function for preprocessing the data1\n",
    "def preprocess_data(data1):\n",
    "    try:\n",
    "        # apply all preprocessing functions to the content column\n",
    "        logging.info(\"Starting data1 preprocessing...\")\n",
    "\n",
    "        data1 = data1.copy()\n",
    "        \n",
    "        data1.loc[:, 'content'] = data1.loc[:, 'content'].astype(str)  \n",
    "\n",
    "        data1 = remove_empty_rows(data1)\n",
    "        data1.loc[:, 'content'] = lower_case(data1['content'])\n",
    "        data1.loc[:, 'content'] = remove_extra_spaces(data1['content'])\n",
    "        data1.loc[:, 'content'] = remove_leading_trailing_spaces(data1['content'])\n",
    "        data1.loc[:, 'content'] = remove_special_characters(data1['content'])\n",
    "        data1.loc[:, 'content'] = lemmatize_words(data1['content'])\n",
    "        data1.loc[:, 'content'] = remove_numbers(data1['content'])\n",
    "        data1.loc[:, 'content'] = remove_urls(data1['content'])\n",
    "        data1.loc[:, 'content'] = remove_stopwords(data1['content'])\n",
    "        data1.loc[:, 'content'] = remove_punctuation(data1['content'])\n",
    "\n",
    "\n",
    "        \n",
    "        logging.info(\"data1 preprocessing completed.\")\n",
    "        \n",
    "        return data1\n",
    "    except Exception as e:\n",
    "        logging.error(f\"Error in preprocess_data: {e}\")\n",
    "        return data1"
   ]
  },
  {
   "cell_type": "code",
   "execution_count": 43,
   "id": "6f68b28f",
   "metadata": {},
   "outputs": [
    {
     "name": "stdout",
     "output_type": "stream",
     "text": [
      "Preprocessed train data:\n"
     ]
    },
    {
     "data": {
      "text/html": [
       "<div>\n",
       "<style scoped>\n",
       "    .dataframe tbody tr th:only-of-type {\n",
       "        vertical-align: middle;\n",
       "    }\n",
       "\n",
       "    .dataframe tbody tr th {\n",
       "        vertical-align: top;\n",
       "    }\n",
       "\n",
       "    .dataframe thead th {\n",
       "        text-align: right;\n",
       "    }\n",
       "</style>\n",
       "<table border=\"1\" class=\"dataframe\">\n",
       "  <thead>\n",
       "    <tr style=\"text-align: right;\">\n",
       "      <th></th>\n",
       "      <th>content</th>\n",
       "      <th>label</th>\n",
       "    </tr>\n",
       "  </thead>\n",
       "  <tbody>\n",
       "    <tr>\n",
       "      <th>0</th>\n",
       "      <td>welp youtube gonna let soulless corporation do...</td>\n",
       "      <td>0.0</td>\n",
       "    </tr>\n",
       "    <tr>\n",
       "      <th>1</th>\n",
       "      <td>said deep propaganda modi wrote personal lette...</td>\n",
       "      <td>1.0</td>\n",
       "    </tr>\n",
       "    <tr>\n",
       "      <th>2</th>\n",
       "      <td>subscribed fun series world thanks please vote...</td>\n",
       "      <td>1.0</td>\n",
       "    </tr>\n",
       "    <tr>\n",
       "      <th>3</th>\n",
       "      <td>egoistic priyankavadramayawati mamtanaidu pull...</td>\n",
       "      <td>-1.0</td>\n",
       "    </tr>\n",
       "    <tr>\n",
       "      <th>4</th>\n",
       "      <td>innocent janata chatur modi</td>\n",
       "      <td>1.0</td>\n",
       "    </tr>\n",
       "  </tbody>\n",
       "</table>\n",
       "</div>"
      ],
      "text/plain": [
       "                                             content  label\n",
       "0  welp youtube gonna let soulless corporation do...    0.0\n",
       "1  said deep propaganda modi wrote personal lette...    1.0\n",
       "2  subscribed fun series world thanks please vote...    1.0\n",
       "3  egoistic priyankavadramayawati mamtanaidu pull...   -1.0\n",
       "4                        innocent janata chatur modi    1.0"
      ]
     },
     "execution_count": 43,
     "metadata": {},
     "output_type": "execute_result"
    }
   ],
   "source": [
    "# apply the preprocessing function to the train and test data\n",
    "train_processed_data = preprocess_data(train_data)\n",
    "print(\"Preprocessed train data:\")\n",
    "train_processed_data.head()"
   ]
  },
  {
   "cell_type": "code",
   "execution_count": 44,
   "id": "656143d1",
   "metadata": {},
   "outputs": [
    {
     "name": "stdout",
     "output_type": "stream",
     "text": [
      "Preprocessed test data:\n"
     ]
    },
    {
     "data": {
      "text/html": [
       "<div>\n",
       "<style scoped>\n",
       "    .dataframe tbody tr th:only-of-type {\n",
       "        vertical-align: middle;\n",
       "    }\n",
       "\n",
       "    .dataframe tbody tr th {\n",
       "        vertical-align: top;\n",
       "    }\n",
       "\n",
       "    .dataframe thead th {\n",
       "        text-align: right;\n",
       "    }\n",
       "</style>\n",
       "<table border=\"1\" class=\"dataframe\">\n",
       "  <thead>\n",
       "    <tr style=\"text-align: right;\">\n",
       "      <th></th>\n",
       "      <th>content</th>\n",
       "      <th>label</th>\n",
       "    </tr>\n",
       "  </thead>\n",
       "  <tbody>\n",
       "    <tr>\n",
       "      <th>0</th>\n",
       "      <td>anyone think modi strengthened democracy not s...</td>\n",
       "      <td>0.0</td>\n",
       "    </tr>\n",
       "    <tr>\n",
       "      <th>1</th>\n",
       "      <td>announcing type scheme make confident modi gonna</td>\n",
       "      <td>1.0</td>\n",
       "    </tr>\n",
       "    <tr>\n",
       "      <th>2</th>\n",
       "      <td>shri narendra modi want make every indian capa...</td>\n",
       "      <td>1.0</td>\n",
       "    </tr>\n",
       "    <tr>\n",
       "      <th>3</th>\n",
       "      <td>major reason modi youth failure modi</td>\n",
       "      <td>-1.0</td>\n",
       "    </tr>\n",
       "    <tr>\n",
       "      <th>4</th>\n",
       "      <td>jimrmodi need not spacehe capable enough deal ...</td>\n",
       "      <td>1.0</td>\n",
       "    </tr>\n",
       "  </tbody>\n",
       "</table>\n",
       "</div>"
      ],
      "text/plain": [
       "                                             content  label\n",
       "0  anyone think modi strengthened democracy not s...    0.0\n",
       "1   announcing type scheme make confident modi gonna    1.0\n",
       "2  shri narendra modi want make every indian capa...    1.0\n",
       "3               major reason modi youth failure modi   -1.0\n",
       "4  jimrmodi need not spacehe capable enough deal ...    1.0"
      ]
     },
     "execution_count": 44,
     "metadata": {},
     "output_type": "execute_result"
    }
   ],
   "source": [
    "test_processed_data = preprocess_data(test_data)\n",
    "print(\"Preprocessed test data:\")\n",
    "test_processed_data.head()"
   ]
  },
  {
   "cell_type": "code",
   "execution_count": 45,
   "id": "c8f54f86",
   "metadata": {},
   "outputs": [
    {
     "data": {
      "text/html": [
       "<div>\n",
       "<style scoped>\n",
       "    .dataframe tbody tr th:only-of-type {\n",
       "        vertical-align: middle;\n",
       "    }\n",
       "\n",
       "    .dataframe tbody tr th {\n",
       "        vertical-align: top;\n",
       "    }\n",
       "\n",
       "    .dataframe thead th {\n",
       "        text-align: right;\n",
       "    }\n",
       "</style>\n",
       "<table border=\"1\" class=\"dataframe\">\n",
       "  <thead>\n",
       "    <tr style=\"text-align: right;\">\n",
       "      <th></th>\n",
       "      <th>content</th>\n",
       "      <th>label</th>\n",
       "    </tr>\n",
       "  </thead>\n",
       "  <tbody>\n",
       "  </tbody>\n",
       "</table>\n",
       "</div>"
      ],
      "text/plain": [
       "Empty DataFrame\n",
       "Columns: [content, label]\n",
       "Index: []"
      ]
     },
     "execution_count": 45,
     "metadata": {},
     "output_type": "execute_result"
    }
   ],
   "source": [
    "# Check newlines in the processed data\n",
    "test_processed_data[test_processed_data['content'].str.contains(\"\\n\")]"
   ]
  },
  {
   "cell_type": "code",
   "execution_count": 46,
   "id": "a8e1ecc4",
   "metadata": {},
   "outputs": [
    {
     "data": {
      "text/html": [
       "<div>\n",
       "<style scoped>\n",
       "    .dataframe tbody tr th:only-of-type {\n",
       "        vertical-align: middle;\n",
       "    }\n",
       "\n",
       "    .dataframe tbody tr th {\n",
       "        vertical-align: top;\n",
       "    }\n",
       "\n",
       "    .dataframe thead th {\n",
       "        text-align: right;\n",
       "    }\n",
       "</style>\n",
       "<table border=\"1\" class=\"dataframe\">\n",
       "  <thead>\n",
       "    <tr style=\"text-align: right;\">\n",
       "      <th></th>\n",
       "      <th>content</th>\n",
       "      <th>label</th>\n",
       "    </tr>\n",
       "  </thead>\n",
       "  <tbody>\n",
       "  </tbody>\n",
       "</table>\n",
       "</div>"
      ],
      "text/plain": [
       "Empty DataFrame\n",
       "Columns: [content, label]\n",
       "Index: []"
      ]
     },
     "execution_count": 46,
     "metadata": {},
     "output_type": "execute_result"
    }
   ],
   "source": [
    "# Check newlines in the processed data\n",
    "train_processed_data[train_processed_data['content'].str.contains(\"\\n\")]"
   ]
  },
  {
   "cell_type": "code",
   "execution_count": 47,
   "id": "af2061ba",
   "metadata": {},
   "outputs": [
    {
     "data": {
      "text/plain": [
       "(content    0\n",
       " label      0\n",
       " dtype: int64,\n",
       " content    0\n",
       " label      0\n",
       " dtype: int64)"
      ]
     },
     "execution_count": 47,
     "metadata": {},
     "output_type": "execute_result"
    }
   ],
   "source": [
    "train_processed_data.isna().sum(), test_processed_data.isna().sum()"
   ]
  },
  {
   "cell_type": "code",
   "execution_count": 48,
   "id": "a878e79e",
   "metadata": {},
   "outputs": [],
   "source": [
    "# Export the processed data to CSV files\n",
    "\n",
    "## Train data\n",
    "train_processed_path = os.path.join(\"..\", \"data\", \"interim\", \"train_processed.csv\")\n",
    "train_processed_data.to_csv(train_processed_path, index=False)\n",
    "\n",
    "## Test data\n",
    "test_processed_path = os.path.join(\"..\", \"data\", \"interim\", \"test_processed.csv\")\n",
    "test_processed_data.to_csv(test_processed_path, index=False)\n",
    "logging.info(f\"Processed train data saved to: {train_processed_path}\")"
   ]
  },
  {
   "cell_type": "code",
   "execution_count": null,
   "id": "172974d5",
   "metadata": {},
   "outputs": [],
   "source": []
  }
 ],
 "metadata": {
  "kernelspec": {
   "display_name": "myenv",
   "language": "python",
   "name": "python3"
  },
  "language_info": {
   "codemirror_mode": {
    "name": "ipython",
    "version": 3
   },
   "file_extension": ".py",
   "mimetype": "text/x-python",
   "name": "python",
   "nbconvert_exporter": "python",
   "pygments_lexer": "ipython3",
   "version": "3.12.7"
  }
 },
 "nbformat": 4,
 "nbformat_minor": 5
}
