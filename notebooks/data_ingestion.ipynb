{
 "cells": [
  {
   "cell_type": "markdown",
   "id": "c6b59dee",
   "metadata": {},
   "source": [
    "# Import necessary libraries"
   ]
  },
  {
   "cell_type": "code",
   "execution_count": 1,
   "id": "b2b25563",
   "metadata": {},
   "outputs": [],
   "source": [
    "import pandas as pd\n",
    "import numpy as np\n",
    "import os"
   ]
  },
  {
   "cell_type": "markdown",
   "id": "7245f8a2",
   "metadata": {},
   "source": [
    "# Get the Twitter data"
   ]
  },
  {
   "cell_type": "code",
   "execution_count": 2,
   "id": "3f20b55c",
   "metadata": {},
   "outputs": [
    {
     "data": {
      "text/html": [
       "<div>\n",
       "<style scoped>\n",
       "    .dataframe tbody tr th:only-of-type {\n",
       "        vertical-align: middle;\n",
       "    }\n",
       "\n",
       "    .dataframe tbody tr th {\n",
       "        vertical-align: top;\n",
       "    }\n",
       "\n",
       "    .dataframe thead th {\n",
       "        text-align: right;\n",
       "    }\n",
       "</style>\n",
       "<table border=\"1\" class=\"dataframe\">\n",
       "  <thead>\n",
       "    <tr style=\"text-align: right;\">\n",
       "      <th></th>\n",
       "      <th>clean_text</th>\n",
       "      <th>category</th>\n",
       "    </tr>\n",
       "  </thead>\n",
       "  <tbody>\n",
       "    <tr>\n",
       "      <th>0</th>\n",
       "      <td>when modi promised “minimum government maximum...</td>\n",
       "      <td>-1.0</td>\n",
       "    </tr>\n",
       "    <tr>\n",
       "      <th>1</th>\n",
       "      <td>talk all the nonsense and continue all the dra...</td>\n",
       "      <td>0.0</td>\n",
       "    </tr>\n",
       "    <tr>\n",
       "      <th>2</th>\n",
       "      <td>what did just say vote for modi  welcome bjp t...</td>\n",
       "      <td>1.0</td>\n",
       "    </tr>\n",
       "    <tr>\n",
       "      <th>3</th>\n",
       "      <td>asking his supporters prefix chowkidar their n...</td>\n",
       "      <td>1.0</td>\n",
       "    </tr>\n",
       "    <tr>\n",
       "      <th>4</th>\n",
       "      <td>answer who among these the most powerful world...</td>\n",
       "      <td>1.0</td>\n",
       "    </tr>\n",
       "  </tbody>\n",
       "</table>\n",
       "</div>"
      ],
      "text/plain": [
       "                                          clean_text  category\n",
       "0  when modi promised “minimum government maximum...      -1.0\n",
       "1  talk all the nonsense and continue all the dra...       0.0\n",
       "2  what did just say vote for modi  welcome bjp t...       1.0\n",
       "3  asking his supporters prefix chowkidar their n...       1.0\n",
       "4  answer who among these the most powerful world...       1.0"
      ]
     },
     "execution_count": 2,
     "metadata": {},
     "output_type": "execute_result"
    }
   ],
   "source": [
    "# Url for the dataset\n",
    "x_url = 'https://raw.githubusercontent.com/PratishMashankar/twitter-sentiment-analysis/refs/heads/master/data/Twitter_Data.csv'\n",
    "\n",
    "# load the data into a pandas dataframe\n",
    "df_x = pd.read_csv(x_url)\n",
    "\n",
    "# Check the first few rows of the dataframe\n",
    "df_x.head()"
   ]
  },
  {
   "cell_type": "code",
   "execution_count": 3,
   "id": "cee6d210",
   "metadata": {},
   "outputs": [
    {
     "name": "stdout",
     "output_type": "stream",
     "text": [
      "Size of the DataFrame :  (162980, 2)\n",
      "Columns of the DataFrame :  Index(['clean_text', 'category'], dtype='object')\n"
     ]
    }
   ],
   "source": [
    "# check the size of the dataframe\n",
    "print(\"Size of the DataFrame : \",df_x.shape)\n",
    "\n",
    "# check the columns of the dataframe\n",
    "print(\"Columns of the DataFrame : \",df_x.columns)"
   ]
  },
  {
   "cell_type": "code",
   "execution_count": 4,
   "id": "c2a73754",
   "metadata": {},
   "outputs": [
    {
     "name": "stdout",
     "output_type": "stream",
     "text": [
      "<class 'pandas.core.frame.DataFrame'>\n",
      "RangeIndex: 162980 entries, 0 to 162979\n",
      "Data columns (total 2 columns):\n",
      " #   Column      Non-Null Count   Dtype  \n",
      "---  ------      --------------   -----  \n",
      " 0   clean_text  162976 non-null  object \n",
      " 1   category    162973 non-null  float64\n",
      "dtypes: float64(1), object(1)\n",
      "memory usage: 2.5+ MB\n"
     ]
    }
   ],
   "source": [
    "# Check the basic information of the dataframe\n",
    "df_x.info()"
   ]
  },
  {
   "cell_type": "code",
   "execution_count": 5,
   "id": "8857a700",
   "metadata": {},
   "outputs": [
    {
     "name": "stdout",
     "output_type": "stream",
     "text": [
      "Data types of the columns : \n",
      " clean_text     object\n",
      "category      float64\n",
      "dtype: object\n"
     ]
    }
   ],
   "source": [
    "# Check the data types of the columns\n",
    "print(\"Data types of the columns : \\n\",df_x.dtypes)"
   ]
  },
  {
   "cell_type": "code",
   "execution_count": 6,
   "id": "21aa4ff8",
   "metadata": {},
   "outputs": [
    {
     "name": "stdout",
     "output_type": "stream",
     "text": [
      "Number of missing values in each column : \n",
      " clean_text    4\n",
      "category      7\n",
      "dtype: int64\n"
     ]
    }
   ],
   "source": [
    "# Check the number of missing values in each column\n",
    "print(\"Number of missing values in each column : \\n\",df_x.isnull().sum())"
   ]
  },
  {
   "cell_type": "code",
   "execution_count": 7,
   "id": "2fa0e975",
   "metadata": {},
   "outputs": [],
   "source": [
    "# Remove all the rows with missing values\n",
    "df_x = df_x.dropna().copy()"
   ]
  },
  {
   "cell_type": "code",
   "execution_count": 8,
   "id": "35b4081f",
   "metadata": {},
   "outputs": [],
   "source": [
    "# Rename the columns of the reddit dataframe to match the twitter dataframe\n",
    "df_x.rename(columns={'clean_text':'content','category':'label'}, inplace=True)"
   ]
  },
  {
   "cell_type": "markdown",
   "id": "35b1b1e0",
   "metadata": {},
   "source": [
    "# Get the Reddit data"
   ]
  },
  {
   "cell_type": "code",
   "execution_count": 9,
   "id": "50b518fd",
   "metadata": {},
   "outputs": [
    {
     "data": {
      "text/html": [
       "<div>\n",
       "<style scoped>\n",
       "    .dataframe tbody tr th:only-of-type {\n",
       "        vertical-align: middle;\n",
       "    }\n",
       "\n",
       "    .dataframe tbody tr th {\n",
       "        vertical-align: top;\n",
       "    }\n",
       "\n",
       "    .dataframe thead th {\n",
       "        text-align: right;\n",
       "    }\n",
       "</style>\n",
       "<table border=\"1\" class=\"dataframe\">\n",
       "  <thead>\n",
       "    <tr style=\"text-align: right;\">\n",
       "      <th></th>\n",
       "      <th>clean_comment</th>\n",
       "      <th>category</th>\n",
       "    </tr>\n",
       "  </thead>\n",
       "  <tbody>\n",
       "    <tr>\n",
       "      <th>0</th>\n",
       "      <td>family mormon have never tried explain them t...</td>\n",
       "      <td>1</td>\n",
       "    </tr>\n",
       "    <tr>\n",
       "      <th>1</th>\n",
       "      <td>buddhism has very much lot compatible with chr...</td>\n",
       "      <td>1</td>\n",
       "    </tr>\n",
       "    <tr>\n",
       "      <th>2</th>\n",
       "      <td>seriously don say thing first all they won get...</td>\n",
       "      <td>-1</td>\n",
       "    </tr>\n",
       "    <tr>\n",
       "      <th>3</th>\n",
       "      <td>what you have learned yours and only yours wha...</td>\n",
       "      <td>0</td>\n",
       "    </tr>\n",
       "    <tr>\n",
       "      <th>4</th>\n",
       "      <td>for your own benefit you may want read living ...</td>\n",
       "      <td>1</td>\n",
       "    </tr>\n",
       "  </tbody>\n",
       "</table>\n",
       "</div>"
      ],
      "text/plain": [
       "                                       clean_comment  category\n",
       "0   family mormon have never tried explain them t...         1\n",
       "1  buddhism has very much lot compatible with chr...         1\n",
       "2  seriously don say thing first all they won get...        -1\n",
       "3  what you have learned yours and only yours wha...         0\n",
       "4  for your own benefit you may want read living ...         1"
      ]
     },
     "execution_count": 9,
     "metadata": {},
     "output_type": "execute_result"
    }
   ],
   "source": [
    "# Url for the dataset\n",
    "r_url = 'https://raw.githubusercontent.com/Himanshu-1703/reddit-sentiment-analysis/refs/heads/main/data/reddit.csv'\n",
    "\n",
    "# load the data into a pandas dataframe\n",
    "df_redd = pd.read_csv(r_url)\n",
    "\n",
    "# Check the first few rows of the dataframe\n",
    "df_redd.head()"
   ]
  },
  {
   "cell_type": "code",
   "execution_count": 10,
   "id": "77d14812",
   "metadata": {},
   "outputs": [
    {
     "name": "stdout",
     "output_type": "stream",
     "text": [
      "Size of the DataFrame :  (37249, 2)\n",
      "Columns of the DataFrame :  Index(['clean_comment', 'category'], dtype='object')\n"
     ]
    }
   ],
   "source": [
    "# check the size of the dataframe\n",
    "print(\"Size of the DataFrame : \",df_redd.shape)\n",
    "\n",
    "# check the columns of the dataframe\n",
    "print(\"Columns of the DataFrame : \",df_redd.columns)"
   ]
  },
  {
   "cell_type": "code",
   "execution_count": 11,
   "id": "fcf9715f",
   "metadata": {},
   "outputs": [
    {
     "name": "stdout",
     "output_type": "stream",
     "text": [
      "<class 'pandas.core.frame.DataFrame'>\n",
      "RangeIndex: 37249 entries, 0 to 37248\n",
      "Data columns (total 2 columns):\n",
      " #   Column         Non-Null Count  Dtype \n",
      "---  ------         --------------  ----- \n",
      " 0   clean_comment  37149 non-null  object\n",
      " 1   category       37249 non-null  int64 \n",
      "dtypes: int64(1), object(1)\n",
      "memory usage: 582.1+ KB\n"
     ]
    }
   ],
   "source": [
    "# Check the basic information of the dataframe\n",
    "df_redd.info()"
   ]
  },
  {
   "cell_type": "code",
   "execution_count": 12,
   "id": "47654e33",
   "metadata": {},
   "outputs": [
    {
     "name": "stdout",
     "output_type": "stream",
     "text": [
      "Data types of the columns : \n",
      " clean_comment    object\n",
      "category          int64\n",
      "dtype: object\n"
     ]
    }
   ],
   "source": [
    "# Check the data types of the columns\n",
    "print(\"Data types of the columns : \\n\",df_redd.dtypes)"
   ]
  },
  {
   "cell_type": "code",
   "execution_count": 13,
   "id": "eea0826e",
   "metadata": {},
   "outputs": [
    {
     "name": "stdout",
     "output_type": "stream",
     "text": [
      "Number of missing values in each column : \n",
      " clean_comment    100\n",
      "category           0\n",
      "dtype: int64\n"
     ]
    }
   ],
   "source": [
    "# Check the number of missing values in each column\n",
    "print(\"Number of missing values in each column : \\n\",df_redd.isnull().sum())"
   ]
  },
  {
   "cell_type": "code",
   "execution_count": 14,
   "id": "f24e21be",
   "metadata": {},
   "outputs": [],
   "source": [
    "# Remove all the rows with missing values\n",
    "df_redd = df_redd.dropna().copy()"
   ]
  },
  {
   "cell_type": "code",
   "execution_count": 15,
   "id": "fc25f23f",
   "metadata": {},
   "outputs": [],
   "source": [
    "# Rename the columns of the reddit dataframe to match the twitter dataframe\n",
    "df_redd.rename(columns={'clean_comment':'content','category':'label'}, inplace=True)"
   ]
  },
  {
   "cell_type": "markdown",
   "id": "bbe5c9e1",
   "metadata": {},
   "source": [
    "# Concatinate this two dataframe into one dataframe"
   ]
  },
  {
   "cell_type": "code",
   "execution_count": 16,
   "id": "94dd8ddb",
   "metadata": {},
   "outputs": [],
   "source": [
    "# Concatenate the two dataframes\n",
    "final_df = pd.concat([df_x, df_redd], ignore_index=True)"
   ]
  },
  {
   "cell_type": "code",
   "execution_count": 17,
   "id": "2033ecfd",
   "metadata": {},
   "outputs": [
    {
     "name": "stdout",
     "output_type": "stream",
     "text": [
      "Size of the DataFrame :  (200118, 2)\n",
      "Columns of the DataFrame :  Index(['content', 'label'], dtype='object')\n"
     ]
    }
   ],
   "source": [
    "# check the size of the dataframe\n",
    "print(\"Size of the DataFrame : \",final_df.shape)\n",
    "\n",
    "# check the columns of the dataframe\n",
    "print(\"Columns of the DataFrame : \",final_df.columns)"
   ]
  },
  {
   "cell_type": "code",
   "execution_count": 18,
   "id": "bfec33f9",
   "metadata": {},
   "outputs": [
    {
     "name": "stdout",
     "output_type": "stream",
     "text": [
      "<class 'pandas.core.frame.DataFrame'>\n",
      "RangeIndex: 200118 entries, 0 to 200117\n",
      "Data columns (total 2 columns):\n",
      " #   Column   Non-Null Count   Dtype  \n",
      "---  ------   --------------   -----  \n",
      " 0   content  200118 non-null  object \n",
      " 1   label    200118 non-null  float64\n",
      "dtypes: float64(1), object(1)\n",
      "memory usage: 3.1+ MB\n"
     ]
    }
   ],
   "source": [
    "# Check the basic information of the dataframe\n",
    "final_df.info()"
   ]
  },
  {
   "cell_type": "code",
   "execution_count": 19,
   "id": "58592ae3",
   "metadata": {},
   "outputs": [
    {
     "name": "stdout",
     "output_type": "stream",
     "text": [
      "Data types of the columns : \n",
      " content     object\n",
      "label      float64\n",
      "dtype: object\n"
     ]
    }
   ],
   "source": [
    "# Check the data types of the columns\n",
    "print(\"Data types of the columns : \\n\",final_df.dtypes)"
   ]
  },
  {
   "cell_type": "code",
   "execution_count": 20,
   "id": "51a32da8",
   "metadata": {},
   "outputs": [
    {
     "name": "stdout",
     "output_type": "stream",
     "text": [
      "Number of missing values in each column : \n",
      " content    0\n",
      "label      0\n",
      "dtype: int64\n"
     ]
    }
   ],
   "source": [
    "# Check the number of missing values in each column\n",
    "print(\"Number of missing values in each column : \\n\",final_df.isnull().sum())"
   ]
  },
  {
   "cell_type": "code",
   "execution_count": 21,
   "id": "9d3a6533",
   "metadata": {},
   "outputs": [
    {
     "name": "stdout",
     "output_type": "stream",
     "text": [
      "Number of duplicates in the DataFrame :  411\n"
     ]
    }
   ],
   "source": [
    "# Check for the duplicates in the dataframe\n",
    "print(\"Number of duplicates in the DataFrame : \",final_df.duplicated().sum())"
   ]
  },
  {
   "cell_type": "code",
   "execution_count": 22,
   "id": "aaf54848",
   "metadata": {},
   "outputs": [],
   "source": [
    "# Remove the duplicates from the dataframe\n",
    "final_df = final_df.drop_duplicates().copy()"
   ]
  },
  {
   "cell_type": "code",
   "execution_count": 23,
   "id": "f84d972a",
   "metadata": {},
   "outputs": [
    {
     "name": "stdout",
     "output_type": "stream",
     "text": [
      "Size of the DataFrame :  (199707, 2)\n"
     ]
    }
   ],
   "source": [
    "# check the size of the dataframe   \n",
    "print(\"Size of the DataFrame : \",final_df.shape)"
   ]
  },
  {
   "cell_type": "markdown",
   "id": "e6343f68",
   "metadata": {},
   "source": [
    "# Exporting the Final Dataframe to CSV"
   ]
  },
  {
   "cell_type": "code",
   "execution_count": 25,
   "id": "de7a0153",
   "metadata": {},
   "outputs": [
    {
     "name": "stdout",
     "output_type": "stream",
     "text": [
      "Final dataframe exported to csv file successfully.\n"
     ]
    }
   ],
   "source": [
    "# Export the final dataframe to a csv file\n",
    "final_df.to_csv('../data/raw/sentiment_data.csv', index=False)\n",
    "print(\"Final dataframe exported to csv file successfully.\")"
   ]
  },
  {
   "cell_type": "code",
   "execution_count": null,
   "id": "e260d289",
   "metadata": {},
   "outputs": [],
   "source": []
  }
 ],
 "metadata": {
  "kernelspec": {
   "display_name": "myenv",
   "language": "python",
   "name": "python3"
  },
  "language_info": {
   "codemirror_mode": {
    "name": "ipython",
    "version": 3
   },
   "file_extension": ".py",
   "mimetype": "text/x-python",
   "name": "python",
   "nbconvert_exporter": "python",
   "pygments_lexer": "ipython3",
   "version": "3.12.7"
  }
 },
 "nbformat": 4,
 "nbformat_minor": 5
}
